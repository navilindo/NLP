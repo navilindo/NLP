{
  "nbformat": 4,
  "nbformat_minor": 0,
  "metadata": {
    "colab": {
      "name": "text_classification_functions.ipynb",
      "provenance": [],
      "collapsed_sections": [],
      "include_colab_link": true
    },
    "kernelspec": {
      "name": "python3",
      "display_name": "Python 3"
    },
    "language_info": {
      "name": "python"
    }
  },
  "cells": [
    {
      "cell_type": "markdown",
      "metadata": {
        "id": "view-in-github",
        "colab_type": "text"
      },
      "source": [
        "<a href=\"https://colab.research.google.com/github/navilindo/NLP/blob/main/text_classification_functions.ipynb\" target=\"_parent\"><img src=\"https://colab.research.google.com/assets/colab-badge.svg\" alt=\"Open In Colab\"/></a>"
      ]
    },
    {
      "cell_type": "markdown",
      "metadata": {
        "id": "XgOyWj3MgEZ8"
      },
      "source": [
        "# text classification using scikit learn"
      ]
    },
    {
      "cell_type": "code",
      "metadata": {
        "id": "ErIeqtxVf9sj"
      },
      "source": [
        "def load_data_categories():\n",
        "  import os\n",
        "\n",
        "  cats = ['business','middleeast','scitech','world']\n",
        "  data_dir = '/content/drive/MyDrive/Colab Notebooks/nlp-data/cnn-ar/'\n",
        "\n",
        "  for cat in cats:\n",
        "    dirpath = os.path.join(data_dir,cat)\n",
        "    print(dirpath)"
      ],
      "execution_count": 1,
      "outputs": []
    },
    {
      "cell_type": "code",
      "metadata": {
        "id": "y5Z7zntf-CNo"
      },
      "source": [
        "def load_data():\n",
        "  from sklearn.datasets import load_files\n",
        "\n",
        "  text_data = load_files(data_dir)\n",
        "  X,y = text_data.data, text_data.target\n",
        "  text_data.target_names"
      ],
      "execution_count": 3,
      "outputs": []
    },
    {
      "cell_type": "code",
      "metadata": {
        "id": "sWfF4EFzXpOZ"
      },
      "source": [
        "def mount_drive():\n",
        "  from google.colab import drive\n",
        "  drive.mount('/content/drive')"
      ],
      "execution_count": 2,
      "outputs": []
    },
    {
      "cell_type": "code",
      "metadata": {
        "id": "OB4XhTP_CApJ"
      },
      "source": [
        "import numpy as np\n",
        "from sklearn.model_selection import train_test_split"
      ],
      "execution_count": 4,
      "outputs": []
    },
    {
      "cell_type": "code",
      "metadata": {
        "id": "ZiKdDADW70Ua"
      },
      "source": [
        "def data_split():\n",
        "  X_train, X_test, y_train, y_test = train_test_split(\n",
        "    X, y, test_size=0.33, random_state=42)"
      ],
      "execution_count": 5,
      "outputs": []
    },
    {
      "cell_type": "code",
      "metadata": {
        "id": "5ne8WbXmDAVw"
      },
      "source": [
        "def extract_features():\n",
        "  from sklearn.feature_extraction.text import CountVectorizer\n",
        "  count_vect = CountVectorizer()\n",
        "  X_train_counts = count_vect.fit_transform(text_data.data)\n",
        "  X_train_counts.shape"
      ],
      "execution_count": 6,
      "outputs": []
    },
    {
      "cell_type": "code",
      "source": [
        "mount_drive()\n",
        "load_data_categories()\n",
        "load_data()\n",
        "data_split()\n",
        "extract_features()"
      ],
      "metadata": {
        "id": "Lpk9mDvkrHfX"
      },
      "execution_count": null,
      "outputs": []
    },
    {
      "cell_type": "code",
      "metadata": {
        "colab": {
          "base_uri": "https://localhost:8080/"
        },
        "id": "wwo4-US5DAg6",
        "outputId": "2dd57ea2-bb29-4e9d-e554-8218ed4c91a2"
      },
      "source": [
        "# test feature extraction\n",
        "count_vect.vocabulary_.get(u'الإمارات')"
      ],
      "execution_count": 10,
      "outputs": [
        {
          "output_type": "execute_result",
          "data": {
            "text/plain": [
              "11316"
            ]
          },
          "metadata": {},
          "execution_count": 10
        }
      ]
    },
    {
      "cell_type": "code",
      "metadata": {
        "id": "7tvXMJpDjpDR"
      },
      "source": [
        "def features_id_trans():\n",
        "  from sklearn.feature_extraction.text import TfidfTransformer\n",
        "  tf_transformer = TfidfTransformer(use_idf=False).fit(X_train_counts)\n",
        "  X_train_tf = tf_transformer.transform(X_train_counts)\n",
        "  X_train_tf.shape"
      ],
      "execution_count": 7,
      "outputs": []
    },
    {
      "cell_type": "code",
      "metadata": {
        "colab": {
          "base_uri": "https://localhost:8080/"
        },
        "id": "zvDtiAIc8fME",
        "outputId": "4aba9816-bc18-43ba-cd5c-c78d7ab9e330"
      },
      "source": [
        "tfidf_transformer = TfidfTransformer()\n",
        "X_train_tfidf = tfidf_transformer.fit_transform(X_train_counts)\n",
        "X_train_tfidf.shape"
      ],
      "execution_count": 12,
      "outputs": [
        {
          "output_type": "execute_result",
          "data": {
            "text/plain": [
              "(3298, 81919)"
            ]
          },
          "metadata": {},
          "execution_count": 12
        }
      ]
    },
    {
      "cell_type": "code",
      "metadata": {
        "id": "k0ZvqmFxjpfT"
      },
      "source": [
        "# Naive Bayes classifier\n",
        "from sklearn.naive_bayes import MultinomialNB\n",
        "clf = MultinomialNB().fit(X_train_tfidf, text_data.target)"
      ],
      "execution_count": 13,
      "outputs": []
    },
    {
      "cell_type": "code",
      "metadata": {
        "colab": {
          "base_uri": "https://localhost:8080/"
        },
        "id": "p3D6Ritk8tZK",
        "outputId": "65acdb76-c88c-4506-f52b-ff6ed1378d55"
      },
      "source": [
        "docs_new = ['الأربعاء عن نيتها خفض رسوم الوقود', 'دفعت بمعظم شركات','وأثار الحكم بسجن غرين انتقادات لدى مسؤولين عراقيين','وكان وجهها مغطى تماما بالثلج، ماعدا عينيها التي كانت تنظر إلي']\n",
        "X_new_counts = count_vect.transform(docs_new)\n",
        "X_new_tfidf = tfidf_transformer.transform(X_new_counts)\n",
        "\n",
        "predicted = clf.predict(X_new_tfidf)\n",
        "\n",
        "for doc, category in zip(docs_new, predicted):\n",
        "    print('%r => %s' % (doc, text_data.target_names[category]))"
      ],
      "execution_count": 14,
      "outputs": [
        {
          "output_type": "stream",
          "name": "stdout",
          "text": [
            "'الأربعاء عن نيتها\\xa0خفض\\xa0رسوم الوقود' => business\n",
            "'دفعت بمعظم شركات' => business\n",
            "'وأثار الحكم بسجن غرين انتقادات لدى مسؤولين عراقيين' => world\n",
            "'وكان وجهها مغطى تماما بالثلج، ماعدا عينيها التي كانت تنظر إلي' => world\n"
          ]
        }
      ]
    },
    {
      "cell_type": "code",
      "metadata": {
        "id": "KgT66JJ7Bb_N"
      },
      "source": [
        "from sklearn.pipeline import Pipeline\n",
        "text_clf = Pipeline([\n",
        "    ('vect', CountVectorizer()),\n",
        "    ('tfidf', TfidfTransformer()),\n",
        "    ('clf', MultinomialNB()),\n",
        "])"
      ],
      "execution_count": 15,
      "outputs": []
    },
    {
      "cell_type": "code",
      "metadata": {
        "colab": {
          "base_uri": "https://localhost:8080/"
        },
        "id": "9t8KxXbqBkL_",
        "outputId": "82f1d199-2476-4174-99dc-2e53c7bd69ba"
      },
      "source": [
        "text_clf.fit(text_data.data, text_data.target)"
      ],
      "execution_count": 16,
      "outputs": [
        {
          "output_type": "execute_result",
          "data": {
            "text/plain": [
              "Pipeline(steps=[('vect', CountVectorizer()), ('tfidf', TfidfTransformer()),\n",
              "                ('clf', MultinomialNB())])"
            ]
          },
          "metadata": {},
          "execution_count": 16
        }
      ]
    },
    {
      "cell_type": "code",
      "metadata": {
        "id": "ieUEqIg4-Dxi"
      },
      "source": [
        "import pickle\n",
        "\n",
        "#save model as pickle str\n",
        "saved_txt_clf = pickle.dumps(text_clf)\n"
      ],
      "execution_count": 28,
      "outputs": []
    },
    {
      "cell_type": "code",
      "source": [
        "#load saved model\n",
        "ret_txt_clf = pickle.loads(saved_txt_clf)"
      ],
      "metadata": {
        "id": "-ElShAJvpZHW"
      },
      "execution_count": 29,
      "outputs": []
    },
    {
      "cell_type": "code",
      "source": [
        "#try to use\n",
        "ret_txt_clf.predictfn()"
      ],
      "metadata": {
        "colab": {
          "base_uri": "https://localhost:8080/",
          "height": 180
        },
        "id": "xpGAvvLkpp64",
        "outputId": "22e797b2-6430-4de5-f1cd-23e1f973b8a7"
      },
      "execution_count": 30,
      "outputs": [
        {
          "output_type": "error",
          "ename": "AttributeError",
          "evalue": "ignored",
          "traceback": [
            "\u001b[0;31m---------------------------------------------------------------------------\u001b[0m",
            "\u001b[0;31mAttributeError\u001b[0m                            Traceback (most recent call last)",
            "\u001b[0;32m<ipython-input-30-bdd1e73c73ee>\u001b[0m in \u001b[0;36m<module>\u001b[0;34m()\u001b[0m\n\u001b[1;32m      1\u001b[0m \u001b[0;31m#try to use\u001b[0m\u001b[0;34m\u001b[0m\u001b[0;34m\u001b[0m\u001b[0;34m\u001b[0m\u001b[0m\n\u001b[0;32m----> 2\u001b[0;31m \u001b[0mret_txt_clf\u001b[0m\u001b[0;34m.\u001b[0m\u001b[0mpredictfn\u001b[0m\u001b[0;34m(\u001b[0m\u001b[0;34m)\u001b[0m\u001b[0;34m\u001b[0m\u001b[0;34m\u001b[0m\u001b[0m\n\u001b[0m",
            "\u001b[0;31mAttributeError\u001b[0m: 'Pipeline' object has no attribute 'predictfn'"
          ]
        }
      ]
    },
    {
      "cell_type": "code",
      "source": [
        "def predictfn():\n",
        "  textdata = input('\\nenter your texts separated by commas')\n",
        "  docs_new = [textdata]\n",
        "  X_new_counts = count_vect.transform(docs_new)\n",
        "  X_new_tfidf = tfidf_transformer.transform(X_new_counts)\n",
        "\n",
        "  predicted = clf.predict(X_new_tfidf)\n",
        "\n",
        "  for doc, category in zip(docs_new, predicted):\n",
        "    print('%r => %s' % (doc, text_data.target_names[category]))"
      ],
      "metadata": {
        "id": "W9lbEbqrrwbw"
      },
      "execution_count": 26,
      "outputs": []
    },
    {
      "cell_type": "code",
      "source": [
        "predictfn()"
      ],
      "metadata": {
        "colab": {
          "base_uri": "https://localhost:8080/"
        },
        "id": "JnH8Pypfsj1C",
        "outputId": "f6fb08de-7fac-4de7-f5ca-b12de799e812"
      },
      "execution_count": 27,
      "outputs": [
        {
          "output_type": "stream",
          "name": "stdout",
          "text": [
            "\n",
            "enter your texts separated by commas'الأربعاء عن نيتها خفض رسوم الوقود', 'دفعت بمعظم شركات','وأثار الحكم بسجن غرين انتقادات لدى مسؤولين عراقيين','وكان وجهها مغطى تماما بالثلج، ماعدا عينيها التي كانت تنظر إلي'\n",
            "\"'الأربعاء عن نيتها\\xa0خفض\\xa0رسوم الوقود', 'دفعت بمعظم شركات','وأثار الحكم بسجن غرين انتقادات لدى مسؤولين عراقيين','وكان وجهها مغطى تماما بالثلج، ماعدا عينيها التي كانت تنظر إلي'\" => world\n"
          ]
        }
      ]
    }
  ]
}